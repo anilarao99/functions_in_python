{
  "nbformat": 4,
  "nbformat_minor": 0,
  "metadata": {
    "colab": {
      "provenance": [],
      "authorship_tag": "ABX9TyMnKTeCrVy75ylM3ZbMvssf"
    },
    "kernelspec": {
      "name": "python3",
      "display_name": "Python 3"
    },
    "language_info": {
      "name": "python"
    }
  },
  "cells": [
    {
      "cell_type": "markdown",
      "source": [
        "**Dictionary Accumulation example**\n",
        "\n",
        "Just as we have iterated through the elements of a list to accumulate a result, we can also iterate through the keys in a dictionary, accumulating a result that may depend on the values associated with each of the keys."
      ],
      "metadata": {
        "id": "GPZqvNwLjQe9"
      }
    },
    {
      "cell_type": "code",
      "execution_count": null,
      "metadata": {
        "id": "9voiO68WjBC7"
      },
      "outputs": [],
      "source": [
        "s=\"python programming\"\n",
        "letter_count = {} # start with an empty dictionary\n",
        "for c in s:\n",
        "    if c not in letter_count:\n",
        "        # we have not seen this character before, so initialize a counter for it\n",
        "        letter_count[c] = 1\n",
        "    else: \n",
        "      #whether we've seen it before or not, increment its counter\n",
        "      letter_count[c] = letter_count[c] + 1\n",
        "\n",
        "#letter_values = {'a': 1, 'b': 3, 'c': 3, 'd': 2, 'e': 1, 'f':4, 'g': 2, 'h':4, 'i':1, 'j':8, 'k':5, 'l':1, 'm':3, 'n':1, 'o':1, 'p':3, 'q':10, 'r':1, 's':1, 't':1, 'u':1, 'v':4, 'w':4, 'x':8, 'y':4, 'z':10}\n",
        "print(letter_count)\n",
        "tot = 0\n",
        "for letter in letter_count:\n",
        "    if letter in letter_count:\n",
        "        tot = tot + letter_count[letter] * letter_count[letter]\n",
        "#driver code\n",
        "print(tot)"
      ]
    }
  ]
}