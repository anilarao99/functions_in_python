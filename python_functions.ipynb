{
  "nbformat": 4,
  "nbformat_minor": 0,
  "metadata": {
    "colab": {
      "provenance": []
    },
    "kernelspec": {
      "name": "python3",
      "display_name": "Python 3"
    },
    "language_info": {
      "name": "python"
    }
  },
  "cells": [
    {
      "cell_type": "markdown",
      "source": [
        "**FUNCTION in Python and its usage**"
      ],
      "metadata": {
        "id": "GoRRzyXSWyyd"
      }
    },
    {
      "cell_type": "markdown",
      "source": [
        "In Python, the function is a block of code defined with a name. \n",
        "\n",
        "We use functions whenever we need to perform the same task multiple times without writing the same code again. \n",
        "\n",
        "It can take arguments and returns the value."
      ],
      "metadata": {
        "id": "SiM8AU-rZrx4"
      }
    },
    {
      "cell_type": "markdown",
      "source": [
        "**syntax**\n",
        "\n",
        "def function_name(parameters):\n",
        "\n",
        "    # What the function does, set of statements\n",
        "\n",
        "    return result "
      ],
      "metadata": {
        "id": "LmoecaWJWSA1"
      }
    },
    {
      "cell_type": "markdown",
      "source": [
        "You need to use the def keyword, give your function a name, followed by a pair of parentheses, and end the line with a colon (:).\n",
        "\n",
        "If your function takes arguments, the names of the arguments (parameters) are mentioned inside the opening and closing parentheses.\n",
        "\n",
        "Please note that in function definition, the arguments that your function consumes are referred to as parameters.\n",
        "\n",
        "When you call the function with specific values for these parameters, they're called arguments or actual parameters. This is because the arguments in the function call are the values used for the function's parameters.\n",
        "\n",
        "Then, you begin an indented block. This is the body of the function that describes what your function does.\n",
        "\n",
        "There's a return statement that returns the result of the operation on the arguments. The return statement returns control to the point where the function was originally called."
      ],
      "metadata": {
        "id": "bW78oX-hXDNU"
      }
    },
    {
      "cell_type": "code",
      "source": [
        "def my_func():\n",
        "  print(\"Hello! Hope you're doing well\")\n"
      ],
      "metadata": {
        "id": "GjOrAp49XLtc"
      },
      "execution_count": null,
      "outputs": []
    },
    {
      "cell_type": "markdown",
      "source": [
        "the function my_func():\n",
        "\n",
        "takes no arguments,\n",
        "\n",
        "returns nothing, and\n",
        "\n",
        "prints out \"Hello! Hope you're doing well\" whenever it's called."
      ],
      "metadata": {
        "id": "-RsO26RbXMbB"
      }
    },
    {
      "cell_type": "markdown",
      "source": [
        "**Passing Multiple Arguments**"
      ],
      "metadata": {
        "id": "6N_HM15iw7wO"
      }
    },
    {
      "cell_type": "code",
      "execution_count": null,
      "metadata": {
        "colab": {
          "base_uri": "https://localhost:8080/"
        },
        "id": "q63vXycyryk1",
        "outputId": "7314676e-0f45-473e-83fe-a53f028a68d0"
      },
      "outputs": [
        {
          "output_type": "stream",
          "name": "stdout",
          "text": [
            "python 3.10\n",
            "5\n"
          ]
        }
      ],
      "source": [
        "\n",
        "# This program demonstrates a function that accepts two arguments.\n",
        "# The show_sum function accepts two arguments and displays their sum.\n",
        "def main():\n",
        "  show_sum(\"python\", \" 3.10\")\n",
        "def show_sum(n1, n2):\n",
        "  result = n1 + n2\n",
        "  print(result)\n",
        "\n",
        "# driver code\n",
        "main()\n",
        "show_sum(2,3)"
      ]
    },
    {
      "cell_type": "code",
      "source": [
        "def myFunc():\n",
        "  show_values(x=10,y=2,z=5)\n",
        "#change parameter names in above line and execute\n",
        "def show_values(x,y,z):\n",
        "  res = x*y*z\n",
        "  print('The product is ', res)\n",
        "\n",
        "# Call the main function.\n",
        "myFunc()"
      ],
      "metadata": {
        "colab": {
          "base_uri": "https://localhost:8080/"
        },
        "id": "zmlgmcjC0LSR",
        "outputId": "521b7290-11f3-41a2-b661-f8b75be47f86"
      },
      "execution_count": null,
      "outputs": [
        {
          "output_type": "stream",
          "name": "stdout",
          "text": [
            "The product is  100\n"
          ]
        }
      ]
    },
    {
      "cell_type": "code",
      "source": [
        "# Create a global variable.\n",
        "my_value = 10\n",
        "\n",
        "# The show_value function prints the value of the global variable.\n",
        "def show_value():\n",
        "  print(my_value)\n",
        "\n",
        "# Call the show_value function.\n",
        "show_value()"
      ],
      "metadata": {
        "colab": {
          "base_uri": "https://localhost:8080/"
        },
        "id": "rqb7G-xL16jJ",
        "outputId": "2262469d-a9a7-4215-f44d-3fb5a8acc398"
      },
      "execution_count": null,
      "outputs": [
        {
          "output_type": "stream",
          "name": "stdout",
          "text": [
            "10\n"
          ]
        }
      ]
    },
    {
      "cell_type": "code",
      "source": [
        "c = 1 # global variable\n",
        "\n",
        "def add():\n",
        "    c=10\n",
        "    print(c)\n",
        "\n",
        "add()"
      ],
      "metadata": {
        "id": "zobX_K3x2GaN",
        "colab": {
          "base_uri": "https://localhost:8080/"
        },
        "outputId": "f8ff5776-12b7-459a-ba94-462681daa8de"
      },
      "execution_count": null,
      "outputs": [
        {
          "output_type": "stream",
          "name": "stdout",
          "text": [
            "10\n"
          ]
        }
      ]
    },
    {
      "cell_type": "code",
      "source": [
        "# global variable\n",
        "c = 9 \n",
        "\n",
        "def add():\n",
        "    global c\n",
        "    c=c*10\n",
        "    print(c)\n",
        "def fun2():\n",
        "  c=c+10\n",
        "  print(c)\n",
        "add()\n",
        "fun2()\n",
        "print(c)"
      ],
      "metadata": {
        "id": "N1nrRYLf2XY6"
      },
      "execution_count": null,
      "outputs": []
    },
    {
      "cell_type": "code",
      "source": [
        "# global variable\n",
        "c = 1 \n",
        "\n",
        "def add():\n",
        "\n",
        "    # use of global keyword\n",
        "    global c\n",
        "\n",
        "    # increment c by 2\n",
        "    c = c + 2 \n",
        "\n",
        "    print(c)\n",
        "\n",
        "add()\n"
      ],
      "metadata": {
        "id": "ELDrJHGy2i8e"
      },
      "execution_count": null,
      "outputs": []
    },
    {
      "cell_type": "code",
      "source": [
        "#Global in nested functions\n",
        "def outer_function():\n",
        "    num = 20\n",
        "\n",
        "    def inner_function():\n",
        "        global num\n",
        "        #num = 25\n",
        "    \n",
        "    print(\"Before calling inner_function(): \", num)\n",
        "    inner_function()\n",
        "    print(\"After calling inner_function(): \", num)\n",
        "\n",
        "outer_function()\n",
        "print(\"Outside both function: \", num)"
      ],
      "metadata": {
        "id": "ms1PzKMS3DTv"
      },
      "execution_count": null,
      "outputs": []
    },
    {
      "cell_type": "code",
      "source": [
        "# stop taking input when its -1\n",
        "l=[]\n",
        "while 1:\n",
        "  a=int(input(\"enter val\"))\n",
        "  if(a==-1):\n",
        "    break\n",
        "  else:\n",
        "    l.append(a)\n",
        "print(l)\n",
        "\n"
      ],
      "metadata": {
        "colab": {
          "base_uri": "https://localhost:8080/"
        },
        "id": "IwxxV0ZDlZtu",
        "outputId": "b7d615a5-1f42-4b6f-fdc7-9c0d92f890ad"
      },
      "execution_count": null,
      "outputs": [
        {
          "output_type": "stream",
          "name": "stdout",
          "text": [
            "ebter val22\n",
            "ebter val44\n",
            "ebter val6\n",
            "ebter val-1\n",
            "[22, 44, 6]\n"
          ]
        }
      ]
    },
    {
      "cell_type": "markdown",
      "source": [
        "Rules of global Keyword The basic rules for global keyword in Python are:\n",
        "\n",
        "When we create a variable inside a function, it is local by default.\n",
        "\n",
        "When we define a variable outside of a function, it is global by default. You don't have to use the global keyword.\n",
        "\n",
        "We use the global keyword to read and write a global variable inside a function.\n",
        "\n",
        "Use of the global keyword outside a function has no effect."
      ],
      "metadata": {
        "id": "dlLHk6Ap4-RR"
      }
    },
    {
      "cell_type": "code",
      "source": [
        "### Value-Returning Functions ###\n",
        "#A value-returning function has a return statement that returns a value\n",
        "#back to the part of the program that called it.\n",
        "\n",
        "def sum(num1, num2):\n",
        "  result = num1 + num2\n",
        "  return result   #control goes back to the calling fn\n",
        "  print('Hai all')\n",
        "\n",
        "print(sum(10, 20))"
      ],
      "metadata": {
        "id": "_fvzLlIc4_Tp"
      },
      "execution_count": null,
      "outputs": []
    },
    {
      "cell_type": "code",
      "source": [
        "def display_name():\n",
        "  # Get the user's name.\n",
        "  name = input('Enter your name: ')\n",
        "  # Return the name.\n",
        "  return name\n",
        "\n",
        "display_name()"
      ],
      "metadata": {
        "id": "c9RDh3sv5LYN"
      },
      "execution_count": null,
      "outputs": []
    },
    {
      "cell_type": "markdown",
      "source": [
        "** Returning Multiple values **"
      ],
      "metadata": {
        "id": "B7goZV496OFP"
      }
    },
    {
      "cell_type": "code",
      "source": [
        "def display_name():\n",
        "  # Get the user's first and last names.\n",
        "  first = input('Enter your first name: ')\n",
        "  last = input('Enter your last name: ')\n",
        "  # Return both names.\n",
        "  print(first, last)\n",
        "  return last, first\n",
        "\n",
        "fn=display_name()\n",
        "print(type(fn))\n",
        "print(fn)"
      ],
      "metadata": {
        "id": "F6I2l4pR5xIp",
        "colab": {
          "base_uri": "https://localhost:8080/"
        },
        "outputId": "b2afd832-c94f-4cfb-beeb-23527b901086"
      },
      "execution_count": null,
      "outputs": [
        {
          "output_type": "stream",
          "name": "stdout",
          "text": [
            "Enter your first name: aaa\n",
            "Enter your last name: bbb\n",
            "aaa bbb\n",
            "<class 'tuple'>\n",
            "('bbb', 'aaa')\n"
          ]
        }
      ]
    },
    {
      "cell_type": "code",
      "source": [
        "h=print(20)\n",
        "print(h)"
      ],
      "metadata": {
        "id": "Z6PQkecu6Qzb",
        "colab": {
          "base_uri": "https://localhost:8080/"
        },
        "outputId": "b063f843-6be6-43ea-8117-71b8fda28f09"
      },
      "execution_count": null,
      "outputs": [
        {
          "output_type": "stream",
          "name": "stdout",
          "text": [
            "20\n",
            "None\n"
          ]
        }
      ]
    },
    {
      "cell_type": "markdown",
      "source": [
        "**Keyword only arguments**"
      ],
      "metadata": {
        "id": "3nKCkaay68or"
      }
    },
    {
      "cell_type": "code",
      "source": [
        "def nameAge(name, age):\n",
        "\tprint(\"Hi, I am\", name)\n",
        "\tprint(\"My age is \", age)\n",
        "\n",
        "nameAge(name=\"ram\", age=20)\n",
        "\n",
        "nameAge(age=20, name=\"ram\")\n",
        "#nameAge(name=\"ram\",20)   #syntax error as position arg followed by keyword arg"
      ],
      "metadata": {
        "id": "tySijnNB6cGO",
        "colab": {
          "base_uri": "https://localhost:8080/"
        },
        "outputId": "5f5c2d36-c6f4-45e3-d15d-7c75f0bce527"
      },
      "execution_count": null,
      "outputs": [
        {
          "output_type": "stream",
          "name": "stdout",
          "text": [
            "Hi, I am ram\n",
            "My age is  20\n",
            "Hi, I am ram\n",
            "My age is  20\n"
          ]
        }
      ]
    },
    {
      "cell_type": "markdown",
      "source": [
        "**Position only arguments**"
      ],
      "metadata": {
        "id": "41JE7A3z7Bom"
      }
    },
    {
      "cell_type": "code",
      "source": [
        "def nameAge(name, age):\n",
        "\tprint(\"Hi, I am\", name)\n",
        "\tprint(\"My age is \", age)\n",
        "\n",
        "# we get correct output because argument is given in order\n",
        "print(\"Case-1:\")\n",
        "nameAge(\"ram\", 20)"
      ],
      "metadata": {
        "id": "YkepHyCn626K",
        "colab": {
          "base_uri": "https://localhost:8080/"
        },
        "outputId": "5c34ad33-8afe-48e5-d2a7-18d095598117"
      },
      "execution_count": null,
      "outputs": [
        {
          "output_type": "stream",
          "name": "stdout",
          "text": [
            "Case-1:\n",
            "Hi, I am ram\n",
            "My age is  20\n"
          ]
        }
      ]
    },
    {
      "cell_type": "code",
      "source": [
        "# we get incorrect output because argument is not in order\n",
        "print(\"\\nCase-2:\")\n",
        "nameAge(20, \"ram\")"
      ],
      "metadata": {
        "id": "9PvxYtn07iDr",
        "colab": {
          "base_uri": "https://localhost:8080/"
        },
        "outputId": "ea0207b1-7350-49c6-904e-a0aa5cfd3424"
      },
      "execution_count": null,
      "outputs": [
        {
          "output_type": "stream",
          "name": "stdout",
          "text": [
            "\n",
            "Case-2:\n",
            "Hi, I am 20\n",
            "My age is  ram\n"
          ]
        }
      ]
    },
    {
      "cell_type": "code",
      "source": [
        "print(\"\\nCase-3 - First positional arguments followed by keyword arguments\")\n",
        "nameAge(\"ram\",age=20)"
      ],
      "metadata": {
        "id": "ytpF_M_G7tse",
        "colab": {
          "base_uri": "https://localhost:8080/"
        },
        "outputId": "358eaafe-0651-4564-f42b-635699c7118e"
      },
      "execution_count": null,
      "outputs": [
        {
          "output_type": "stream",
          "name": "stdout",
          "text": [
            "\n",
            "Case-3 - First positional arguments followed by keyword arguments\n",
            "Hi, I am ram\n",
            "My age is  20\n"
          ]
        }
      ]
    },
    {
      "cell_type": "code",
      "source": [
        "print(\"\\nCase-4 - keyword arguments followed by positional \")\n",
        "nameAge(age=20,\"ram\") #this func call will report error"
      ],
      "metadata": {
        "id": "7X9dfESD8bFu",
        "colab": {
          "base_uri": "https://localhost:8080/",
          "height": 134
        },
        "outputId": "2f05eb72-0804-4538-9d8d-8ca241b2d2a2"
      },
      "execution_count": null,
      "outputs": [
        {
          "output_type": "error",
          "ename": "SyntaxError",
          "evalue": "ignored",
          "traceback": [
            "\u001b[0;36m  File \u001b[0;32m\"<ipython-input-26-51062fc1bee9>\"\u001b[0;36m, line \u001b[0;32m2\u001b[0m\n\u001b[0;31m    nameAge(age=20,\"ram\") #this func call will report error\u001b[0m\n\u001b[0m                   ^\u001b[0m\n\u001b[0;31mSyntaxError\u001b[0m\u001b[0;31m:\u001b[0m positional argument follows keyword argument\n"
          ]
        }
      ]
    },
    {
      "cell_type": "markdown",
      "source": [
        "Default Arguments \n",
        "\n",
        " "
      ],
      "metadata": {
        "id": "oEJEaxQI8glS"
      }
    },
    {
      "cell_type": "code",
      "source": [
        "#Default arguments\n",
        "def myAdd(a=15, b=2, c=3):\n",
        "  print(\"Value of a=\",a,\"Value of b=\",b,\"Value of c= \",c)\n",
        "  return a + b + c\n",
        "print(myAdd())\n",
        "print(myAdd(11))\n",
        "print(myAdd(11,22))\n",
        "print(myAdd(11,22,33))"
      ],
      "metadata": {
        "id": "5j-Y98Ku8wBx",
        "colab": {
          "base_uri": "https://localhost:8080/"
        },
        "outputId": "d67ca328-198a-43be-fd61-73f7008a678b"
      },
      "execution_count": null,
      "outputs": [
        {
          "output_type": "stream",
          "name": "stdout",
          "text": [
            "Value of a= 15 Value of b= 2 Value of c=  3\n",
            "20\n",
            "Value of a= 11 Value of b= 2 Value of c=  3\n",
            "16\n",
            "Value of a= 11 Value of b= 22 Value of c=  3\n",
            "36\n",
            "Value of a= 11 Value of b= 22 Value of c=  33\n",
            "66\n"
          ]
        }
      ]
    },
    {
      "cell_type": "code",
      "source": [
        "print(myAdd(11,22,33,2))"
      ],
      "metadata": {
        "colab": {
          "base_uri": "https://localhost:8080/",
          "height": 169
        },
        "id": "vT9b_Uorq0fC",
        "outputId": "ce091d62-603a-44d4-c574-f29e5c3bba41"
      },
      "execution_count": null,
      "outputs": [
        {
          "output_type": "error",
          "ename": "TypeError",
          "evalue": "ignored",
          "traceback": [
            "\u001b[0;31m---------------------------------------------------------------------------\u001b[0m",
            "\u001b[0;31mTypeError\u001b[0m                                 Traceback (most recent call last)",
            "\u001b[0;32m<ipython-input-28-c600a46619bb>\u001b[0m in \u001b[0;36m<module>\u001b[0;34m\u001b[0m\n\u001b[0;32m----> 1\u001b[0;31m \u001b[0mprint\u001b[0m\u001b[0;34m(\u001b[0m\u001b[0mmyAdd\u001b[0m\u001b[0;34m(\u001b[0m\u001b[0;36m11\u001b[0m\u001b[0;34m,\u001b[0m\u001b[0;36m22\u001b[0m\u001b[0;34m,\u001b[0m\u001b[0;36m33\u001b[0m\u001b[0;34m,\u001b[0m\u001b[0;36m2\u001b[0m\u001b[0;34m)\u001b[0m\u001b[0;34m)\u001b[0m\u001b[0;34m\u001b[0m\u001b[0;34m\u001b[0m\u001b[0m\n\u001b[0m",
            "\u001b[0;31mTypeError\u001b[0m: myAdd() takes from 0 to 3 positional arguments but 4 were given"
          ]
        }
      ]
    },
    {
      "cell_type": "code",
      "source": [
        "#Default arguments\n",
        "def myAdd(a, b, c):\n",
        "  print(\"Value of a=\",a,\"Value of b=\",b,\"Value of c= \",c)\n",
        "  return a + b + c\n",
        "print(myAdd())"
      ],
      "metadata": {
        "id": "9vEZc3U08yFP"
      },
      "execution_count": null,
      "outputs": []
    },
    {
      "cell_type": "code",
      "source": [
        "print(myAdd(11))"
      ],
      "metadata": {
        "id": "-SNq2I7drWoT"
      },
      "execution_count": null,
      "outputs": []
    },
    {
      "cell_type": "code",
      "source": [
        "print(myAdd(11,22,55,66))"
      ],
      "metadata": {
        "id": "WdhfiLQNrYc8"
      },
      "execution_count": null,
      "outputs": []
    },
    {
      "cell_type": "code",
      "source": [],
      "metadata": {
        "id": "p9AYA_I3rrix"
      },
      "execution_count": null,
      "outputs": []
    },
    {
      "cell_type": "code",
      "source": [
        "l=[1,2,3,4,5,6,7,8]\n",
        "print(l[:2])\n",
        "print(l[::2])"
      ],
      "metadata": {
        "id": "8KyEs6IQ80kA"
      },
      "execution_count": null,
      "outputs": []
    },
    {
      "cell_type": "code",
      "source": [
        "#Function Arguments with Default Values\n",
        "def add_numbers( a = 7,  b = 8):\n",
        "    sum = a + b\n",
        "    print('Sum:', sum)\n",
        "# function call with two arguments\n",
        "add_numbers(2, 3)\n",
        "\n",
        "#  function call with one argument\n",
        "add_numbers(a = 2)\n",
        "\n",
        "# function call with no arguments\n",
        "add_numbers()"
      ],
      "metadata": {
        "id": "t5Bvm9b581N9",
        "colab": {
          "base_uri": "https://localhost:8080/"
        },
        "outputId": "41771dd3-a3af-46e5-8aaa-c90a8aa46107"
      },
      "execution_count": null,
      "outputs": [
        {
          "output_type": "stream",
          "name": "stdout",
          "text": [
            "Sum: 5\n",
            "Sum: 10\n",
            "Sum: 15\n"
          ]
        }
      ]
    },
    {
      "cell_type": "code",
      "source": [
        "def add(a,b=5,c=10):\n",
        "    return (a+b+c)\n",
        "\n",
        "#specifying only the mandatory argument\n",
        "print(add(3))\n",
        "\n",
        "#specifying one of the optional arguments.\n",
        "#3 is assigned to a, 4 is assigned to b.\n",
        "print(add(3,4))\n",
        "\n",
        "#specifying all the arguments\n",
        "print(add(2,3,4))"
      ],
      "metadata": {
        "id": "fwPf42ai37f1",
        "colab": {
          "base_uri": "https://localhost:8080/"
        },
        "outputId": "cfb028ea-197b-4759-f555-32e4afb6f42a"
      },
      "execution_count": null,
      "outputs": [
        {
          "output_type": "stream",
          "name": "stdout",
          "text": [
            "18\n",
            "17\n",
            "9\n"
          ]
        }
      ]
    },
    {
      "cell_type": "code",
      "source": [
        "#All parameters are given as keyword arguments, so no need to maintain the same order.\n",
        "print (add(b=10,c=15,a=20))"
      ],
      "metadata": {
        "colab": {
          "base_uri": "https://localhost:8080/"
        },
        "id": "O8qZFzW4tUwl",
        "outputId": "8b536df9-8f4b-4ba1-8e57-30a9b69a957c"
      },
      "execution_count": null,
      "outputs": [
        {
          "output_type": "stream",
          "name": "stdout",
          "text": [
            "45\n"
          ]
        }
      ]
    },
    {
      "cell_type": "code",
      "source": [
        "#During a function call, only giving mandatory argument as a keyword argument. Optional default arguments are skipped.\n",
        "print (add(a=10))"
      ],
      "metadata": {
        "colab": {
          "base_uri": "https://localhost:8080/"
        },
        "id": "swufJckwtW0T",
        "outputId": "6365bdb7-6122-41a6-ad4c-31d5726cb1ad"
      },
      "execution_count": null,
      "outputs": [
        {
          "output_type": "stream",
          "name": "stdout",
          "text": [
            "25\n"
          ]
        }
      ]
    },
    {
      "cell_type": "code",
      "source": [
        "#Giving a mix of positional and keyword arguments, keyword arguments should always follow positional arguments\n",
        "print (add(10,c=30,b=20))"
      ],
      "metadata": {
        "colab": {
          "base_uri": "https://localhost:8080/"
        },
        "id": "U0qsRUS-tYia",
        "outputId": "84b75254-e576-41b9-cffe-fc117e6fafac"
      },
      "execution_count": null,
      "outputs": [
        {
          "output_type": "stream",
          "name": "stdout",
          "text": [
            "60\n"
          ]
        }
      ]
    },
    {
      "cell_type": "markdown",
      "source": [
        "**Variable-length arguments** or **arbitrary arguments**\n",
        "\n",
        "Variable-length arguments are also known as arbitrary arguments. \n",
        "\n",
        "Sometimes, we do not know in advance the number of arguments that will be passed into a function. To handle this kind of situation, we can use arbitrary arguments in Python.\n",
        "\n",
        "Arbitrary arguments allow us to pass a varying number of values during a function call.\n",
        "\n",
        "We use an asterisk (*) before the parameter name to denote this kind of argument."
      ],
      "metadata": {
        "id": "wS3aLDnF_Ntw"
      }
    },
    {
      "cell_type": "markdown",
      "source": [
        "**Two types of arbitrary arguments**\n",
        "1. arbitrary positional arguments\n",
        "2. arbitrary keyword arguments"
      ],
      "metadata": {
        "id": "D0p6u0YX_f9v"
      }
    },
    {
      "cell_type": "markdown",
      "source": [
        "**arbitrary positional arguments:**\n",
        "\n",
        "1. parameter is preceeded by an asterisk (*) \n",
        "2. These arguments will be wrapped up in a tuple. \n",
        "3. Before the variable number of arguments, zero or more normal arguments may occur."
      ],
      "metadata": {
        "id": "7IbKWbt3_nBH"
      }
    },
    {
      "cell_type": "code",
      "source": [
        "def add(*b):\n",
        "    result=0\n",
        "    for i in b:\n",
        "         result=result+i\n",
        "    return result\n",
        "\n",
        "print (add(1,2,3,4,5,1,90.99))\n",
        "print (add(1,2))\n",
        "print (add())"
      ],
      "metadata": {
        "id": "7e2ARk06ACka",
        "colab": {
          "base_uri": "https://localhost:8080/"
        },
        "outputId": "a15ba4d9-bd73-47d8-ac3d-325209932bfb"
      },
      "execution_count": null,
      "outputs": [
        {
          "output_type": "stream",
          "name": "stdout",
          "text": [
            "106.99\n",
            "3\n",
            "0\n"
          ]
        }
      ]
    },
    {
      "cell_type": "markdown",
      "source": [
        "Note: After getting multiple values, numbers behave as an array so we are able to use the for loop to access each value."
      ],
      "metadata": {
        "id": "iImkrGCXa6cC"
      }
    },
    {
      "cell_type": "markdown",
      "source": [
        "**arbitrary keyword arguments**\n",
        "\n",
        "1. parameter is preceeded by double asterisk (**)\n",
        "2. parameter in a function which can hold keyword variable-length arguments.\n"
      ],
      "metadata": {
        "id": "4zZ35Ue2BEmJ"
      }
    },
    {
      "cell_type": "code",
      "source": [
        "def func(**a):\n",
        "    for i in a.items():\n",
        "        print (i)\n",
        "func(number=3,name=\"suma\",cgpa=8.9)"
      ],
      "metadata": {
        "id": "bh9ibC2UA8Hv",
        "colab": {
          "base_uri": "https://localhost:8080/"
        },
        "outputId": "3ac544f2-4700-4ee3-8b77-838d48d5ff61"
      },
      "execution_count": null,
      "outputs": [
        {
          "output_type": "stream",
          "name": "stdout",
          "text": [
            "('number', 3)\n",
            "('name', 'suma')\n",
            "('cgpa', 8.9)\n"
          ]
        }
      ]
    },
    {
      "cell_type": "markdown",
      "source": [
        "**Passing array to functions**"
      ],
      "metadata": {
        "id": "nUStQLU3CJps"
      }
    },
    {
      "cell_type": "code",
      "source": [
        "from array import *\n",
        "\n",
        "def Product(arr):\n",
        "\tp = 1\n",
        "\tfor i in arr:\n",
        "\t\tp *= i\n",
        "\tprint(\"Product: \", p)\n",
        "\n",
        "arr = array('f', [4.0, 5.0, 6.0])\n",
        "# here 'f' indicates data type of array values\n",
        "Product(arr)\n"
      ],
      "metadata": {
        "id": "AVyoLDkSCHJ3"
      },
      "execution_count": null,
      "outputs": []
    },
    {
      "cell_type": "markdown",
      "source": [
        "![array_dataTypes.png](data:image/png;base64,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)"
      ],
      "metadata": {
        "id": "CLJ821hHDC8m"
      }
    },
    {
      "cell_type": "markdown",
      "source": [
        "Note: The u type code for Unicode characters is deprecated since version 3.3."
      ],
      "metadata": {
        "id": "_Y6jcOwPDYy9"
      }
    },
    {
      "cell_type": "markdown",
      "source": [
        "Recursion is the process of defining something in terms of itself."
      ],
      "metadata": {
        "id": "9W9CrHUybPQA"
      }
    },
    {
      "cell_type": "markdown",
      "source": [
        "![image.png](data:image/png;base64,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)"
      ],
      "metadata": {
        "id": "rZ7Zy5oFbYbQ"
      }
    },
    {
      "cell_type": "code",
      "source": [
        "# example1\n",
        "def recursiveFunc(n):\n",
        "  print(\"this is recursive function\")\n",
        "  while n>0:\n",
        "    recursiveFunc(n-1)\n",
        "    n=n-1\n",
        "recursiveFunc(2)"
      ],
      "metadata": {
        "id": "2GjNbutTbt0t"
      },
      "execution_count": null,
      "outputs": []
    },
    {
      "cell_type": "markdown",
      "source": [
        "**Least Common Multiple (LCM) of 2 Numbers**\n",
        "In the mathematics, \n",
        "\n",
        "LCM is a smallest common factor of the two or more numbers. For example - We want to find the common factor of 2 and 5 then -\n",
        "\n",
        "Multiples of 2 → 2, 4, 6, 8, 10\n",
        "\n",
        "Multiples of 5 → 5, 10, 15, 20, 25\n",
        "\n",
        "Least Common Factor is → 10"
      ],
      "metadata": {
        "id": "iWM_wLlSdEaO"
      }
    },
    {
      "cell_type": "code",
      "source": [
        "#example2\n",
        "\n",
        "def LCM(x, y):  \n",
        "  z = x % y  \n",
        "  if z == 0:  \n",
        "        return x  \n",
        "  return x * LCM(y, z) / z  \n",
        "print(\"The least common factor is: \", LCM(6,15))  "
      ],
      "metadata": {
        "colab": {
          "base_uri": "https://localhost:8080/"
        },
        "id": "ZaRrM1GTc9WN",
        "outputId": "c114d863-f6a2-4a09-bbaf-efffa5326d3b"
      },
      "execution_count": null,
      "outputs": [
        {
          "output_type": "stream",
          "name": "stdout",
          "text": [
            "The least common factor is:  30.0\n"
          ]
        }
      ]
    },
    {
      "cell_type": "markdown",
      "source": [
        "**Sum of Digits of a Number**"
      ],
      "metadata": {
        "id": "t6RBymDpdaRO"
      }
    },
    {
      "cell_type": "code",
      "source": [
        "def sumDigits(n1):  \n",
        "    if n1 == 0:  \n",
        "        return 0  \n",
        "    else :  \n",
        "        return int(n1 % 10) + sumDigits(int(n1 / 10))  \n",
        "nums = int(input(\"Enter a number: \"))  \n",
        "print(\"The sum is:\", sumDigits(nums))  "
      ],
      "metadata": {
        "id": "LyeLr6kbdcVc"
      },
      "execution_count": null,
      "outputs": []
    },
    {
      "cell_type": "code",
      "source": [
        "#Recursive function example\n",
        "\n",
        "def factorial(x):\n",
        "    \"\"\"This is a recursive function\n",
        "    to find the factorial of an integer\"\"\"\n",
        "\n",
        "    if x == 1:\n",
        "        return 1\n",
        "    else:\n",
        "        return (x * factorial(x-1))\n",
        "num = 3\n",
        "print(\"The factorial of\", num, \"is\", factorial(num))"
      ],
      "metadata": {
        "id": "Aecfw4RZDGCW"
      },
      "execution_count": null,
      "outputs": []
    },
    {
      "cell_type": "markdown",
      "source": [
        "![image.png](data:image/png;base64,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)"
      ],
      "metadata": {
        "id": "-6v7QlLpbfHu"
      }
    },
    {
      "cell_type": "markdown",
      "source": [
        "**Advantages of Recursion:**\n",
        "\n",
        "Recursive functions make the code look clean and elegant. A complex task can be decomposed into simpler sub-problems using recursion. Sequence generation is easier with recursion than using nested iteration. \n",
        "\n",
        "Disadvantages of Recursion:\n",
        "\n",
        "Sometimes the logic behind recursion is hard. Recursive calls are expensive (inefficient) as they take up a lot of memory and time. Recursive functions are hard to debug."
      ],
      "metadata": {
        "id": "8l0sU54QERr2"
      }
    },
    {
      "cell_type": "code",
      "source": [
        "#Demonstration of recursion\n",
        "def fact(n):\n",
        "  if n==1: \n",
        "    return 1\n",
        "  else:\n",
        "    return n*fact(n-1)\n",
        "\n",
        "res=fact(5)\n",
        "print(\"factorial of 5 is\", res)"
      ],
      "metadata": {
        "id": "VO7tEzdaEOab"
      },
      "execution_count": null,
      "outputs": []
    },
    {
      "cell_type": "code",
      "source": [
        "# Python program to display the Fibonacci sequence\n",
        "\n",
        "def rFibo(n):\n",
        "   if n <= 1 :\n",
        "       return n\n",
        "   else:\n",
        "       return(rFibo(n-1) + rFibo(n-2))\n",
        "\n",
        "nt = int(input(\"Enter no. of terms\"))\n",
        "\n",
        "# check if the number of terms is valid\n",
        "if nt <0:\n",
        "   print(\"Plese enter a positive integer\")\n",
        "else:\n",
        "   print(\"Fibonacci sequence:\")\n",
        "   for i in range(nt):\n",
        "       print(rFibo(i))"
      ],
      "metadata": {
        "id": "IBql6OpHEy7P",
        "colab": {
          "base_uri": "https://localhost:8080/"
        },
        "outputId": "f4f70188-de82-4749-c5f4-e8fface389ee"
      },
      "execution_count": 1,
      "outputs": [
        {
          "output_type": "stream",
          "name": "stdout",
          "text": [
            "Enter no. of terms5\n",
            "Fibonacci sequence:\n",
            "0\n",
            "1\n",
            "1\n",
            "2\n",
            "3\n"
          ]
        }
      ]
    },
    {
      "cell_type": "code",
      "source": [
        "#Dictionary Accumulation example\n",
        "\n",
        "s=\"python programming\"\n",
        "letter_counts = {} # start with an empty dictionary\n",
        "for c in s:\n",
        "    if c not in letter_counts:\n",
        "        # we have not seen this character before, so initialize a counter for it\n",
        "        letter_counts[c] = 1\n",
        "    else: \n",
        "      #whether we've seen it before or not, increment its counter\n",
        "      letter_counts[c] = letter_counts[c] + 1\n",
        "\n",
        "#letter_values = {'a': 1, 'b': 3, 'c': 3, 'd': 2, 'e': 1, 'f':4, 'g': 2, 'h':4, 'i':1, 'j':8, 'k':5, 'l':1, 'm':3, 'n':1, 'o':1, 'p':3, 'q':10, 'r':1, 's':1, 't':1, 'u':1, 'v':4, 'w':4, 'x':8, 'y':4, 'z':10}\n",
        "\n",
        "print(letter_counts)\n",
        "\n",
        "tot = 0\n",
        "for letter in letter_counts:\n",
        "    if letter in letter_counts:\n",
        "        tot = tot + letter_counts[letter] * letter_counts[letter]\n",
        "\n",
        "print(tot)"
      ],
      "metadata": {
        "colab": {
          "base_uri": "https://localhost:8080/"
        },
        "id": "g8Jm05vlE1z2",
        "outputId": "14523e8f-a7bf-43fe-fd69-7942ef3c580f"
      },
      "execution_count": null,
      "outputs": [
        {
          "output_type": "stream",
          "name": "stdout",
          "text": [
            "{'p': 2, 'y': 1, 't': 1, 'h': 1, 'o': 2, 'n': 2, ' ': 1, 'r': 2, 'g': 2, 'a': 1, 'm': 2, 'i': 1}\n",
            "30\n"
          ]
        }
      ]
    }
  ]
}